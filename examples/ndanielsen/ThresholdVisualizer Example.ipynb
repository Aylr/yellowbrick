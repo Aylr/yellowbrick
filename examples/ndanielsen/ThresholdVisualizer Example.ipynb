{
 "cells": [
  {
   "cell_type": "code",
   "execution_count": 88,
   "metadata": {
    "collapsed": false
   },
   "outputs": [],
   "source": [
    "%matplotlib inline\n",
    "# Imports\n",
    "import pandas as pd  \n",
    "import numpy as np\n",
    "import matplotlib.pyplot as plt\n",
    "import matplotlib\n",
    "\n",
    "import bisect  \n",
    "from scipy.stats import mstats\n",
    "\n",
    "\n",
    "from sklearn.cross_validation import train_test_split  \n",
    "from sklearn.naive_bayes import BernoulliNB\n",
    "from sklearn.metrics import precision_recall_curve  \n",
    "\n",
    "from yellowbrick.style.palettes import get_color_cycle, PALETTES\n",
    "from yellowbrick.style.colors import resolve_colors\n",
    "from yellowbrick.base import ModelVisualizer\n",
    "from yellowbrick.threshold import ThresholdVisualizer"
   ]
  },
  {
   "cell_type": "code",
   "execution_count": 89,
   "metadata": {
    "collapsed": false,
    "deletable": true,
    "editable": true
   },
   "outputs": [],
   "source": [
    "# Retrieve Data Set\n",
    "df = pd.read_csv('https://archive.ics.uci.edu/ml/machine-learning-databases/spambase/spambase.data', header=None)\n",
    "df.rename(columns={57:'is_spam'}, inplace=True)\n",
    "\n",
    "# Build the classifier and get the predictions\n",
    "model = BernoulliNB()\n",
    "\n",
    "X = df[[col for col in df.columns if col != 'is_spam']]  \n",
    "y = df['is_spam']\n"
   ]
  },
  {
   "cell_type": "code",
   "execution_count": null,
   "metadata": {
    "collapsed": false
   },
   "outputs": [],
   "source": [
    "viz = ThresholdVisualizer(model, n_trials=100, title=\"Spam vs Ham Thresholds\")\n",
    "viz.fit_draw_poof(X, y)\n",
    "\n"
   ]
  },
  {
   "cell_type": "code",
   "execution_count": null,
   "metadata": {
    "collapsed": true
   },
   "outputs": [],
   "source": []
  }
 ],
 "metadata": {
  "kernelspec": {
   "display_name": "Python 3",
   "language": "python",
   "name": "python3"
  },
  "language_info": {
   "codemirror_mode": {
    "name": "ipython",
    "version": 3
   },
   "file_extension": ".py",
   "mimetype": "text/x-python",
   "name": "python",
   "nbconvert_exporter": "python",
   "pygments_lexer": "ipython3",
   "version": "3.5.2"
  }
 },
 "nbformat": 4,
 "nbformat_minor": 2
}
